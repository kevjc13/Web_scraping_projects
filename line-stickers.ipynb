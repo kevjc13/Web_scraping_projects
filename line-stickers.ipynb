{
 "cells": [
  {
   "cell_type": "code",
   "execution_count": 6,
   "id": "b7fdda8a",
   "metadata": {},
   "outputs": [],
   "source": [
    "import requests as req\n",
    "import os, json\n",
    "from bs4 import BeautifulSoup as bs\n",
    "\n",
    "from fake_useragent import UserAgent\n",
    "ua = UserAgent()\n",
    "\n",
    "folderPath = 'line_stickers'\n",
    "if not os.path.exists(folderPath):\n",
    "    os.makedirs(folderPath)"
   ]
  },
  {
   "cell_type": "code",
   "execution_count": 7,
   "id": "9787847c",
   "metadata": {},
   "outputs": [],
   "source": [
    "listLineStickers = []"
   ]
  },
  {
   "cell_type": "code",
   "execution_count": 8,
   "id": "16cdb1b4",
   "metadata": {},
   "outputs": [],
   "source": [
    "my_headers = {\n",
    "    'user-agent': ua.random\n",
    "}"
   ]
  },
  {
   "cell_type": "code",
   "execution_count": 29,
   "id": "7349f741",
   "metadata": {},
   "outputs": [],
   "source": [
    "url = 'https://store.line.me/stickershop/product/22642533/zh-Hant'\n",
    "res = req.get(url, headers = my_headers)\n",
    "soup = bs(res.text, 'lxml')"
   ]
  },
  {
   "cell_type": "code",
   "execution_count": null,
   "id": "72db3141",
   "metadata": {},
   "outputs": [],
   "source": [
    "li_elements = soup.select( 'ul.mdCMN09Ul.FnStickerList > li.mdCMN09Li.FnStickerPreviewItem.animation-sticker ' )\n",
    "print(li_elements)"
   ]
  },
  {
   "cell_type": "code",
   "execution_count": null,
   "id": "3ee44246",
   "metadata": {},
   "outputs": [],
   "source": [
    "\n",
    "listLineStickers = []\n",
    "for li in li_elements:\n",
    "   \n",
    "    strJson = li['data-preview']\n",
    "    \n",
    "   \n",
    "    obj = json.loads(strJson)\n",
    "    \n",
    "  \n",
    "    listLineStickers.append(obj)\n",
    "\n",
    "\n",
    "for obj in listLineStickers: \n",
    "    os.system(f\"curl {obj['animationUrl']} -o {folderPath}/{obj['id']}.png\")\n",
    "    print(f\"ID: {obj['id']}, url: {obj['animationUrl']}\")\n"
   ]
  }
 ],
 "metadata": {
  "kernelspec": {
   "display_name": "Python3@da",
   "language": "python",
   "name": "da"
  },
  "language_info": {
   "codemirror_mode": {
    "name": "ipython",
    "version": 3
   },
   "file_extension": ".py",
   "mimetype": "text/x-python",
   "name": "python",
   "nbconvert_exporter": "python",
   "pygments_lexer": "ipython3",
   "version": "3.10.12"
  }
 },
 "nbformat": 4,
 "nbformat_minor": 5
}
