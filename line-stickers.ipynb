{
 "cells": [
  {
   "cell_type": "markdown",
   "id": "d2818ad5",
   "metadata": {},
   "source": [
    "# Line stickers finder"
   ]
  },
  {
   "cell_type": "code",
   "execution_count": null,
   "id": "b7fdda8a",
   "metadata": {},
   "outputs": [],
   "source": [
    "import requests as req\n",
    "import os, json\n",
    "from bs4 import BeautifulSoup as bs\n",
    "\n",
    "# Get random user-agent\n",
    "# Reference: https://pypi.org/project/fake-useragent/\n",
    "from fake_useragent import UserAgent\n",
    "ua = UserAgent()\n",
    "\n",
    "# Create a new folder for stickers\n",
    "folderPath = 'line_stickers'\n",
    "if not os.path.exists(folderPath):\n",
    "    os.makedirs(folderPath)"
   ]
  },
  {
   "cell_type": "code",
   "execution_count": null,
   "id": "9787847c",
   "metadata": {},
   "outputs": [],
   "source": [
    "# To store stickers' data\n",
    "listLineStickers = []"
   ]
  },
  {
   "cell_type": "code",
   "execution_count": null,
   "id": "16cdb1b4",
   "metadata": {},
   "outputs": [],
   "source": [
    "# A custom header\n",
    "my_headers = {\n",
    "    'user-agent': ua.random\n",
    "}"
   ]
  },
  {
   "cell_type": "code",
   "execution_count": null,
   "id": "7349f741",
   "metadata": {},
   "outputs": [],
   "source": [
    "# Official LINE sticker shop\n",
    "url = 'https://store.line.me/stickershop/product/22642533/zh-Hant'\n",
    "\n",
    "# Adding custom header into a GET request\n",
    "res = req.get(url, headers = my_headers)\n",
    "\n",
    "# Create a soup object\n",
    "soup = bs(res.text, 'lxml')"
   ]
  },
  {
   "cell_type": "code",
   "execution_count": null,
   "id": "72db3141",
   "metadata": {},
   "outputs": [],
   "source": [
    "# Find the element which stores stickers\n",
    "li_elements = soup.select( 'ul.mdCMN09Ul.FnStickerList > li.mdCMN09Li.FnStickerPreviewItem.animation-sticker ' )\n",
    "print(li_elements)"
   ]
  },
  {
   "cell_type": "code",
   "execution_count": null,
   "id": "3ee44246",
   "metadata": {},
   "outputs": [],
   "source": [
    "\n",
    "# Retrieve data-preview information from each li element\n",
    "for li in li_elements:\n",
    "   \n",
    "   # Get the value of the data-preview attribute (string)\n",
    "    strJson = li['data-preview']\n",
    "    \n",
    "   # Convert the attribute's value (string) into an object\n",
    "    obj = json.loads(strJson)\n",
    "    \n",
    "   # Store important information in a list to assist with data downloading and storage\n",
    "    listLineStickers.append(obj)\n",
    "\n",
    "# download stickers\n",
    "for obj in listLineStickers: \n",
    "    os.system(f\"curl {obj['animationUrl']} -o {folderPath}/{obj['id']}.png\")\n",
    "    print(f\"ID: {obj['id']}, url: {obj['animationUrl']}\")\n"
   ]
  }
 ],
 "metadata": {
  "kernelspec": {
   "display_name": "Python3@da",
   "language": "python",
   "name": "da"
  },
  "language_info": {
   "codemirror_mode": {
    "name": "ipython",
    "version": 3
   },
   "file_extension": ".py",
   "mimetype": "text/x-python",
   "name": "python",
   "nbconvert_exporter": "python",
   "pygments_lexer": "ipython3",
   "version": "3.10.12"
  }
 },
 "nbformat": 4,
 "nbformat_minor": 5
}
